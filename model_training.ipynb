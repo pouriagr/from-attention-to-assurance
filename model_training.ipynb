{
  "cells": [
    {
      "cell_type": "code",
      "execution_count": null,
      "metadata": {
        "colab": {
          "base_uri": "https://localhost:8080/"
        },
        "id": "HZn1jgcknlOy",
        "outputId": "8fb03dfb-fd61-445e-f54a-5e53a0e00781"
      },
      "outputs": [
        {
          "output_type": "stream",
          "name": "stdout",
          "text": [
            "Mounted at /content/drive/\n"
          ]
        }
      ],
      "source": [
        "from google.colab import drive\n",
        "import numpy as np\n",
        "import pandas as pd\n",
        "drive.mount('/content/drive/')\n",
        "\n",
        "model_index = 1\n",
        "ROUND = [\"\",\"_round2\"][1]\n",
        "MODEL_NAME = [\"ViT\", \"BERT\"][model_index]\n",
        "NUMBER_OF_CLASSES = [1000, 77][model_index]"
      ]
    },
    {
      "cell_type": "code",
      "execution_count": null,
      "metadata": {
        "id": "LcgIG4XQm7rF"
      },
      "outputs": [],
      "source": [
        "report_file_address = f\"drive/MyDrive/my_projects/transformers/{MODEL_NAME}/generated_data/report{ROUND}.csv\"\n",
        "report_training_file_address = f\"drive/MyDrive/my_projects/transformers/{MODEL_NAME}/generated_data/report_training{ROUND}.csv\"\n",
        "attentions_features_address = f\"drive/MyDrive/my_projects/transformers/{MODEL_NAME}/generated_data/attentions_features{ROUND}.npy\"\n",
        "attentions_features_training_address = f\"drive/MyDrive/my_projects/transformers/{MODEL_NAME}/generated_data/attentions_features_training{ROUND}.npy\"\n",
        "\n",
        "report_df = pd.read_csv(report_file_address)\n",
        "attentions_features_np = np.load(attentions_features_address)\n",
        "report_training_df = pd.read_csv(report_training_file_address)\n",
        "attentions_features_training_np = np.load(attentions_features_training_address)"
      ]
    },
    {
      "cell_type": "markdown",
      "metadata": {
        "id": "xxgTVxYlk1FB"
      },
      "source": [
        "# Analysis"
      ]
    },
    {
      "cell_type": "code",
      "source": [
        "from matplotlib import pyplot as plt\n",
        "import seaborn as sn\n",
        "\n",
        "def generate_report(report_df):\n",
        "  print(\"Error Rate:\", report_df['predicted_wrong'].mean())\n",
        "  print(\"Covered Classes:\", np.unique(report_df['real_class']).__len__(), np.unique(report_df['real_class']).__len__()/NUMBER_OF_CLASSES)\n",
        "  print(\"Predicted Classes:\", np.unique(report_df['predicted_class']).__len__(), np.unique(report_df['predicted_class']).__len__()/NUMBER_OF_CLASSES)\n",
        "  print(\"Unique Data Points:\", np.unique(report_df['seed_image_index']).__len__(), np.unique(report_df['seed_image_index']).__len__()/len(report_df))\n",
        "  print(\"Classes Balance:\", report_df[['seed_image_index', 'predicted_wrong']].groupby('predicted_wrong').count())\n",
        "\n",
        "  sn.displot(np.unique(report_df['seed_image_index'],return_counts=True)[1]) # TODO: rename seed_image_index to seed_index\n",
        "  plt.title('Number of Repeated Data Points and Their Repetition')\n",
        "  plt.show()\n",
        "  sn.displot(report_df[['real_class', 'predicted_wrong']].groupby('real_class').count()['predicted_wrong'])\n",
        "  plt.title('Number of Data Points per Class')\n",
        "  plt.show()\n",
        "  sn.displot(report_df[['real_class', 'predicted_wrong']].groupby('real_class').mean()['predicted_wrong'])\n",
        "  plt.title('Error Rate per Class')\n",
        "  plt.show()\n",
        "  print(\"error:\", report_df['predicted_wrong'].mean())\n",
        "\n",
        "generate_report(report_training_df)\n",
        "print(\"#####################################################\")\n",
        "generate_report(report_df)"
      ],
      "metadata": {
        "id": "EV1CXWWSgDe9"
      },
      "execution_count": null,
      "outputs": []
    },
    {
      "cell_type": "code",
      "execution_count": null,
      "metadata": {
        "colab": {
          "base_uri": "https://localhost:8080/"
        },
        "id": "gKYWC0DfoNgO",
        "outputId": "0d7fe64f-9120-41ba-e969-5f678504586d"
      },
      "outputs": [
        {
          "output_type": "execute_result",
          "data": {
            "text/plain": [
              "(10000, 2658)"
            ]
          },
          "metadata": {},
          "execution_count": 4
        }
      ],
      "source": [
        "attentions_features_np.shape"
      ]
    },
    {
      "cell_type": "code",
      "execution_count": null,
      "metadata": {
        "colab": {
          "base_uri": "https://localhost:8080/"
        },
        "id": "-c-rAdMhprPj",
        "outputId": "524f0dc1-6f17-40a1-b5c5-380ce945bf89"
      },
      "outputs": [
        {
          "output_type": "execute_result",
          "data": {
            "text/plain": [
              "array([1, 1, 0, ..., 0, 1, 0])"
            ]
          },
          "metadata": {},
          "execution_count": 5
        }
      ],
      "source": [
        "report_df[\"predicted_wrong\"].values"
      ]
    },
    {
      "cell_type": "markdown",
      "metadata": {
        "id": "6Qr4ScDQpgyH"
      },
      "source": [
        "# Feature Engineering"
      ]
    },
    {
      "cell_type": "code",
      "execution_count": null,
      "metadata": {
        "id": "Triem41AoHAE"
      },
      "outputs": [],
      "source": [
        "features = attentions_features_np.copy()\n",
        "features_training = attentions_features_training_np.copy()"
      ]
    },
    {
      "cell_type": "markdown",
      "metadata": {
        "id": "qzbGvRRYogM1"
      },
      "source": [
        "## RF Feature Selection (Dimension Reduction)"
      ]
    },
    {
      "cell_type": "code",
      "execution_count": null,
      "metadata": {
        "id": "tkdmiOYsomQF"
      },
      "outputs": [],
      "source": [
        "from sklearn.ensemble import RandomForestClassifier\n",
        "\n",
        "# Create a random forest classifier\n",
        "clf = RandomForestClassifier()\n",
        "\n",
        "# Train the classifier\n",
        "# clf.fit(features, report_df[\"predicted_wrong\"].values)\n",
        "clf.fit(features_training, report_training_df[\"predicted_wrong\"].values)\n",
        "\n",
        "# Get feature importances\n",
        "importances = clf.feature_importances_"
      ]
    },
    {
      "cell_type": "code",
      "source": [
        "sn.displot(clf.feature_importances_, kde=True)\n",
        "feature_importance_threshold = 0.00065\n",
        "plt.axvline(x=feature_importance_threshold, color='red', linestyle='--')\n",
        "print(\"number of important feature:\", (clf.feature_importances_>feature_importance_threshold).sum())"
      ],
      "metadata": {
        "colab": {
          "base_uri": "https://localhost:8080/",
          "height": 523
        },
        "id": "UqN3nqS2lzgY",
        "outputId": "1166ecb7-4215-4949-c4de-f366309d83a9"
      },
      "execution_count": null,
      "outputs": [
        {
          "output_type": "stream",
          "name": "stdout",
          "text": [
            "number of important feature: 359\n"
          ]
        },
        {
          "output_type": "display_data",
          "data": {
            "text/plain": [
              "<Figure size 500x500 with 1 Axes>"
            ],
            "image/png": "[encoded data removed]"
          },
          "metadata": {}
        }
      ]
    },
    {
      "cell_type": "code",
      "execution_count": null,
      "metadata": {
        "colab": {
          "base_uri": "https://localhost:8080/"
        },
        "id": "WUxqWg3BmUim",
        "outputId": "a028f426-7795-4e2c-a109-e02720736148"
      },
      "outputs": [
        {
          "output_type": "execute_result",
          "data": {
            "text/plain": [
              "(10000, 359)"
            ]
          },
          "metadata": {},
          "execution_count": 9
        }
      ],
      "source": [
        "features = features[:,clf.feature_importances_>feature_importance_threshold]\n",
        "features_training = features_training[:,clf.feature_importances_>feature_importance_threshold]\n",
        "features.shape"
      ]
    },
    {
      "cell_type": "markdown",
      "metadata": {
        "id": "vHeo_CWYc9JC"
      },
      "source": [
        "### Features Importance Analysis"
      ]
    },
    {
      "cell_type": "code",
      "execution_count": null,
      "metadata": {
        "id": "75hmXnxPPp-v"
      },
      "outputs": [],
      "source": [
        "matrix = np.arange(144).reshape((12,12))\n",
        "attention1_flow_index, attention2_flow_index = np.triu_indices_from(matrix,1)\n",
        "\n",
        "# Data from the table\n",
        "feature_types = [\"attention_entropy\", \"attention_positive_impact\", \"attention_negative_impact\", \"max_attention_weight\",\n",
        "                 \"avg_max_attention_weight\", \"upper_triangle_jsd_matrix\", \"attention_sparsity\", \"attention_class_weights_q0\",\n",
        "                 \"attention_class_weights_q1\", \"attention_class_weights_q2\", \"attention_class_weights_q3\", \"attention_class_weights_q4\",\n",
        "                 \"attention_tokens_weights_q0\", \"attention_tokens_weights_q1\", \"attention_tokens_weights_q2\", \"attention_tokens_weights_q3\",\n",
        "                 \"attention_tokens_weights_q4\", \"attention_balance\", \"attention_uniformity\"]\n",
        "feature_names = []\n",
        "layers = []\n",
        "feature_types_per_attention = []\n",
        "attention_index = []\n",
        "\n",
        "for feature_type in feature_types:\n",
        "  max_feature_index = int(144/2-12/2) if (feature_type == \"upper_triangle_jsd_matrix\") else 144\n",
        "  if feature_type != \"upper_triangle_jsd_matrix\":\n",
        "    feature_names = feature_names + [f\"{feature_type}_att{i}\" for i in range(1,1 + (max_feature_index))]\n",
        "  else:\n",
        "    feature_names = feature_names + [f\"{feature_type}_att{attention1_flow_index[i]+1}_att{attention2_flow_index[i]+1}\" for i in range(max_feature_index)]\n",
        "  layers = layers + [int(i/12) + 1 for i in range(max_feature_index)]\n",
        "  attention_index = attention_index + [int(i%12) + 1 for i in range(max_feature_index)]\n",
        "  feature_types_per_attention = feature_types_per_attention + [feature_type for i in range(1,1 + (max_feature_index))]\n",
        "print(\"Number of features:\", feature_names.__len__())\n",
        "\n",
        "feature_importances_df = pd.DataFrame()\n",
        "feature_importances_df[\"features\"] = feature_names\n",
        "feature_importances_df[\"importance\"] = clf.feature_importances_\n",
        "feature_importances_df[\"layers\"] = layers\n",
        "feature_importances_df[\"attention_index\"] = attention_index\n",
        "feature_importances_df[\"feature_types\"] = feature_types_per_attention\n",
        "feature_importances_df[\"feature_index\"] = np.arange(len(feature_names))\n",
        "feature_importances_df[\"is_selected\"] = (clf.feature_importances_>feature_importance_threshold)\n",
        "feature_importances_df = feature_importances_df.sort_values(by=\"importance\", ascending=False).reset_index(drop=True)\n",
        "\n",
        "print(feature_importances_df[[\"importance\", \"layers\"]].groupby(\"layers\").sum().sort_values(by=\"importance\", ascending=False))\n",
        "print(feature_importances_df[[\"importance\", \"feature_types\"]].groupby(\"feature_types\").sum().sort_values(by=\"importance\", ascending=False))\n",
        "print(feature_importances_df[[\"importance\", \"feature_types\"]].groupby(\"feature_types\").max().sort_values(by=\"importance\", ascending=False))\n",
        "print(feature_importances_df.query(f\"importance>{feature_importance_threshold}\")[[\"feature_types\",\"features\"]].groupby(\"feature_types\").count().sort_values(by=\"features\", ascending=False))"
      ]
    },
    {
      "cell_type": "code",
      "source": [
        "feature_importances_df"
      ],
      "metadata": {
        "id": "nEwLr1vlAF7N"
      },
      "execution_count": null,
      "outputs": []
    },
    {
      "cell_type": "markdown",
      "metadata": {
        "id": "bfqXdIcun4Aa"
      },
      "source": [
        "## Robust Scaling"
      ]
    },
    {
      "cell_type": "code",
      "execution_count": null,
      "metadata": {
        "colab": {
          "base_uri": "https://localhost:8080/"
        },
        "id": "ptzfrf3UphPI",
        "outputId": "ef45e82b-ffa7-435d-f945-da1ef11e64a0"
      },
      "outputs": [
        {
          "output_type": "stream",
          "name": "stdout",
          "text": [
            "(10000, 359) (10000, 359)\n"
          ]
        }
      ],
      "source": [
        "q1 = np.quantile(features_training, q=0.25, axis=0)\n",
        "q3 = np.quantile(features_training, q=0.75, axis=0)\n",
        "iqr = q3 - q1\n",
        "should_remove = iqr==0\n",
        "iqr[should_remove] = 1\n",
        "median = np.median(features_training, axis=0)\n",
        "\n",
        "features_training = (features_training - median) / iqr\n",
        "features = (features - median) / iqr\n",
        "\n",
        "features_training = features_training[:,np.logical_not(should_remove)]\n",
        "features = features[:,np.logical_not(should_remove)]\n",
        "\n",
        "print(features_training.shape, features.shape)"
      ]
    },
    {
      "cell_type": "markdown",
      "metadata": {
        "id": "khVSK9VncENc"
      },
      "source": [
        "# Improved K-Means"
      ]
    },
    {
      "cell_type": "code",
      "execution_count": null,
      "metadata": {
        "id": "CHL-dZLucDPc"
      },
      "outputs": [],
      "source": [
        "from scipy.spatial import distance\n",
        "from sklearn.cluster import DBSCAN\n",
        "from sklearn.cluster import KMeans\n",
        "\n",
        "class kmeans_plus:\n",
        "  def __init__(self, n_clusters):\n",
        "    # Assume X_train is your training data and X_test is your new data\n",
        "    self.kmeans = KMeans(n_clusters=n_clusters, init='k-means++', random_state=42)\n",
        "\n",
        "  def fit(self, X):\n",
        "    self.kmeans.fit(X)\n",
        "    # Calculate the maximum distance to centroid for each cluster in training data\n",
        "    self.clusters_max_distances = []\n",
        "    for i in range(self.kmeans.n_clusters):\n",
        "        cluster_points = X[self.kmeans.labels_ == i]\n",
        "        centroid = self.kmeans.cluster_centers_[i]\n",
        "        distances = np.sqrt(((cluster_points - centroid)**2).sum(axis=1))\n",
        "        self.clusters_max_distances.append(np.max(distances))\n",
        "\n",
        "  def predict(self, X):\n",
        "    # Predict clusters for new data\n",
        "    labels = self.kmeans.predict(X)\n",
        "    labels = labels.astype(float)\n",
        "    new_clusters = []\n",
        "    new_clusters_db_eps = []\n",
        "    # Check if any point is farther from its centroid than the maximum distance in training data\n",
        "    for i, label in enumerate(labels):\n",
        "        label = int(label)\n",
        "        centroid = self.kmeans.cluster_centers_[label]\n",
        "        dist = np.sqrt(((X[i] - centroid)**2).sum())\n",
        "        if dist > self.clusters_max_distances[label]:\n",
        "            # Assign to a new cluster\n",
        "            new_label = labels[i] + i/100000\n",
        "            print(labels[i], dist, self.clusters_max_distances[label], new_label)\n",
        "            labels[i] = new_label\n",
        "            if not (labels[i] in new_clusters):\n",
        "              new_clusters.append(labels[i])\n",
        "              new_clusters_db_eps.append(self.clusters_max_distances[label])\n",
        "\n",
        "    return labels"
      ]
    },
    {
      "cell_type": "code",
      "execution_count": null,
      "metadata": {
        "id": "fDshEwnrhPhD"
      },
      "outputs": [],
      "source": [
        "kmeans = kmeans_plus(n_clusters = 215)\n",
        "kmeans.fit(features_training)"
      ]
    },
    {
      "cell_type": "markdown",
      "metadata": {
        "id": "8LBKtqcn_hCn"
      },
      "source": [
        "# Clustering Result Analysis"
      ]
    },
    {
      "cell_type": "code",
      "execution_count": null,
      "metadata": {
        "id": "13k-NAkS2yZv"
      },
      "outputs": [],
      "source": [
        "report_df"
      ]
    },
    {
      "cell_type": "code",
      "execution_count": null,
      "metadata": {
        "id": "SBpWi9hJj1sD"
      },
      "outputs": [],
      "source": [
        "clustering_report_df = report_df.copy()\n",
        "clustering_report_df[\"cluster\"] = kmeans.predict(features)"
      ]
    },
    {
      "cell_type": "code",
      "execution_count": null,
      "metadata": {
        "id": "yVbEcvQqeU1G"
      },
      "outputs": [],
      "source": [
        "error_in_clusters = clustering_report_df[[\"predicted_wrong\", \"cluster\"]].groupby(\"cluster\").mean().reset_index()[\"predicted_wrong\"].values\n",
        "points_in_clusters = clustering_report_df[[\"predicted_wrong\", \"cluster\"]].groupby(\"cluster\").count().reset_index()[\"predicted_wrong\"].values\n",
        "classes_in_clusters = clustering_report_df[[\"real_class\", \"cluster\"]].groupby(\"cluster\")[\"real_class\"].nunique().values\n",
        "predicted_classes_in_clusters = clustering_report_df[[\"predicted_class\", \"cluster\"]].groupby(\"cluster\")[\"predicted_class\"].nunique().values"
      ]
    },
    {
      "cell_type": "code",
      "source": [
        "feature_types_coverage = []\n",
        "\n",
        "for row in feature_importances_df[0:features.shape[1]].iterrows():\n",
        "  row = row[1]\n",
        "  if row['feature_types'] in feature_types_coverage:\n",
        "    continue\n",
        "  else:\n",
        "    feature_types_coverage.append(row['feature_types'])\n",
        "\n",
        "  clustering_report_df[\"feature\"] = attentions_features_np[:,row['feature_index']]\n",
        "  sn.distplot(attentions_features_np[:,row['feature_index']])\n",
        "  plt.xlabel(row['feature_types'], fontsize=12)\n",
        "  plt.show()\n",
        "  points_feature_in_clusters = clustering_report_df[[\"feature\", \"cluster\"]].groupby(\"cluster\").mean().reset_index()[\"feature\"].values\n",
        "  points_in_clusters = clustering_report_df[[\"predicted_wrong\", \"cluster\"]].groupby(\"cluster\").count().reset_index()[\"predicted_wrong\"].values\n",
        "  print(len(points_in_clusters), points_in_clusters.sum())\n",
        "  print(row['features'],row['layers'],row['feature_types'],row['feature_index'])\n",
        "\n",
        "  # Calculate the weighted mean\n",
        "  weighted_mean_x = np.average(points_feature_in_clusters, weights=points_in_clusters/points_in_clusters.max())\n",
        "  weighted_mean_y = np.average(error_in_clusters, weights=points_in_clusters/points_in_clusters.max())\n",
        "\n",
        "  # Calculate the weighted covariance\n",
        "  weighted_cov = np.average((points_feature_in_clusters-weighted_mean_x)*(error_in_clusters-weighted_mean_y), weights=points_in_clusters/points_in_clusters.max())\n",
        "\n",
        "  # Calculate the standard deviations considering the weights\n",
        "  std_x = np.sqrt(np.average((points_feature_in_clusters-weighted_mean_x)**2, weights=points_in_clusters/points_in_clusters.max()))\n",
        "  std_y = np.sqrt(np.average((error_in_clusters-weighted_mean_y)**2, weights=points_in_clusters/points_in_clusters.max()))\n",
        "\n",
        "  # Calculate the weighted correlation\n",
        "  weighted_corr = weighted_cov / (std_x * std_y)\n",
        "\n",
        "  limit = [30,5][model_index]\n",
        "  plt.figure(figsize=(2,1))\n",
        "  sn.displot(x=points_feature_in_clusters[points_in_clusters>limit],\n",
        "              y=error_in_clusters[points_in_clusters>limit],\n",
        "              kind=\"kde\")\n",
        "\n",
        "  if row['feature_types'] == \"upper_triangle_jsd_matrix\":\n",
        "    plt.title(f\"JSD Between Attentions {attention1_flow_index[row['attention_index']-1]+1} & {attention2_flow_index[row['attention_index']-1]+1} - {MODEL_NAME}\", fontsize=12)\n",
        "  else:\n",
        "    plt.title(f\"Layer {row['layers']} - Attention {row['attention_index']} - {MODEL_NAME}\", fontsize=12)\n",
        "  plt.xlabel(row['feature_types'].replace(\"_\",\"-\"), fontsize=12)\n",
        "  plt.ylabel(\"Error in Zones\", fontsize=12)\n",
        "\n",
        "\n",
        "  plt.show()\n",
        "  print(\"####################################\")"
      ],
      "metadata": {
        "id": "v1rtbVFPl1Tk"
      },
      "execution_count": null,
      "outputs": []
    },
    {
      "cell_type": "markdown",
      "metadata": {
        "id": "E7qfz81Mmu7g"
      },
      "source": [
        "# Coverage Criteria"
      ]
    },
    {
      "cell_type": "code",
      "execution_count": null,
      "metadata": {
        "id": "xH_8M5Q_qoT4"
      },
      "outputs": [],
      "source": [
        "import math\n",
        "\n",
        "clustering_report_training_df = report_training_df.copy()\n",
        "clustering_report_training_df[\"cluster\"] = kmeans.predict(features_training)\n",
        "clusters_classes_df = clustering_report_training_df\\\n",
        "                        .drop_duplicates(subset=['cluster', 'real_class'])\\\n",
        "                        .groupby('cluster')['real_class'].apply(list).reset_index()\n",
        "clusters_classes_dict = {}\n",
        "for row in clusters_classes_df[[\"cluster\", \"real_class\"]].iterrows():\n",
        "  row = row[1]\n",
        "  clusters_classes_dict[row[\"cluster\"]] = row[\"real_class\"]\n",
        "del clusters_classes_df\n",
        "\n",
        "clustering_report_df = report_df.copy()\n",
        "clustering_report_df[\"cluster\"] = kmeans.predict(features)\n",
        "clustering_report_df[\"is_beyond_centroid_zone\"] = clustering_report_df[\"cluster\"].apply(lambda x: math.modf(x)[0] != 0)\n",
        "clustering_report_df[\"is_new_class_in_centroid_zone\"] =\\\n",
        "  clustering_report_df[[\"real_class\",\"cluster\",\"is_beyond_centroid_zone\"]]\\\n",
        "  .apply(lambda x: False if x[\"is_beyond_centroid_zone\"] else not(x[\"real_class\"] in clusters_classes_dict[x[\"cluster\"]]), axis=1)"
      ]
    },
    {
      "cell_type": "code",
      "execution_count": null,
      "metadata": {
        "id": "C3q_RCIA1Diw"
      },
      "outputs": [],
      "source": [
        "def get_beyond_centroid_zone_coverage_sample_error(sample_df: pd.DataFrame) -> float:\n",
        "  agg_df = sample_df.query(\"is_beyond_centroid_zone==True\")[[\"cluster\", \"predicted_wrong\"]].groupby(\"cluster\").agg([\"count\",\"mean\"]).reset_index()\n",
        "  agg_df.columns = ['cluster', 'count', 'mean']\n",
        "  covered_area_error = (agg_df[\"count\"] * agg_df[\"mean\"]).sum()/agg_df[\"count\"].sum()\n",
        "  return covered_area_error\n",
        "\n",
        "def get_centroid_zone_coverage_sample_error(sample_df: pd.DataFrame) -> float:\n",
        "  agg_df = sample_df.query(\"is_beyond_centroid_zone==False\")[[\"cluster\", \"predicted_wrong\"]].groupby(\"cluster\").agg([\"count\",\"mean\"]).reset_index()\n",
        "  agg_df.columns = ['cluster', 'count', 'mean']\n",
        "  covered_area_error = (agg_df[\"count\"] * agg_df[\"mean\"]).sum()/agg_df[\"count\"].sum()\n",
        "  return covered_area_error\n",
        "\n",
        "def get_new_class_in_centroid_zone_coverage_sample_error(sample_df: pd.DataFrame) -> float:\n",
        "  agg_df = sample_df.query(\"is_new_class_in_centroid_zone==True\")[[\n",
        "        \"cluster\", \"real_class\", \"predicted_wrong\"\n",
        "      ]].groupby([\"cluster\", \"real_class\"]).agg([\"count\",\"mean\"]).reset_index()\n",
        "  agg_df.columns = ['cluster', 'real_class', 'count', 'mean']\n",
        "  covered_area_error = (agg_df[\"count\"] * agg_df[\"mean\"]).sum()/agg_df[\"count\"].sum()\n",
        "  return covered_area_error\n",
        "\n",
        "def get_basic_class_in_centroid_zone_coverage_sample_error(sample_df: pd.DataFrame):\n",
        "  agg_df = sample_df.query(\"(is_new_class_in_centroid_zone==False)and(is_beyond_centroid_zone==False)\")[[\n",
        "        \"cluster\", \"real_class\", \"predicted_wrong\"\n",
        "      ]].groupby([\"cluster\", \"real_class\"]).agg([\"count\",\"mean\"]).reset_index()\n",
        "  agg_df.columns = ['cluster', 'real_class', 'count', 'mean']\n",
        "  covered_area_error = (agg_df[\"count\"] * agg_df[\"mean\"]).sum()/agg_df[\"count\"].sum()\n",
        "  return covered_area_error\n",
        "\n",
        "def get_all_classes_beyond_centroid_zone_coverage_sample_error(sample_df: pd.DataFrame):\n",
        "  agg_df = sample_df.query(\"is_beyond_centroid_zone==True\")[[\n",
        "        \"cluster\", \"real_class\", \"predicted_wrong\"\n",
        "      ]].groupby([\"cluster\", \"real_class\"]).agg([\"count\",\"mean\"]).reset_index()\n",
        "  agg_df.columns = ['cluster', 'real_class', 'count', 'mean']\n",
        "  covered_area_error = (agg_df[\"count\"] * agg_df[\"mean\"]).sum()/agg_df[\"count\"].sum()\n",
        "  return covered_area_error"
      ]
    },
    {
      "cell_type": "markdown",
      "metadata": {
        "id": "iwapEO5f2E6F"
      },
      "source": [
        "## Kolmogorov Test"
      ]
    },
    {
      "cell_type": "code",
      "execution_count": null,
      "metadata": {
        "id": "sxK2B-B7muX8"
      },
      "outputs": [],
      "source": [
        "samples_error = []\n",
        "bczc_errors = []\n",
        "czc_errors = []\n",
        "ncczc_errors = []\n",
        "bcczc_errors = []\n",
        "acbczc_errors = []\n",
        "\n",
        "for sample_index in range(1000):\n",
        "  sample = np.random.choice(len(features), 1000, replace=False)\n",
        "  sample_df = clustering_report_df.iloc()[sample].reset_index(drop=True)\n",
        "  samples_error.append(\n",
        "      sample_df[\"predicted_wrong\"].mean()\n",
        "  )\n",
        "  bczc_errors.append(\n",
        "      get_beyond_centroid_zone_coverage_sample_error(sample_df)\n",
        "  )\n",
        "  czc_errors.append(\n",
        "      get_centroid_zone_coverage_sample_error(sample_df)\n",
        "  )\n",
        "  ncczc_errors.append(\n",
        "      get_new_class_in_centroid_zone_coverage_sample_error(sample_df)\n",
        "  )\n",
        "  bcczc_errors.append(\n",
        "      get_basic_class_in_centroid_zone_coverage_sample_error(sample_df)\n",
        "  )\n",
        "  acbczc_errors.append(\n",
        "      get_all_classes_beyond_centroid_zone_coverage_sample_error(sample_df)\n",
        "  )\n",
        "  if (sample_index % 100) == 0:\n",
        "    print(\"progress:\", sample_index)"
      ]
    },
    {
      "cell_type": "code",
      "source": [
        "from scipy import stats\n",
        "\n",
        "for coverage_criteian_name, coverage_error in zip(\n",
        "      [\"Beyond Centroid Zone Coverage\", \"Centroid Zone Coverage\", \"New Centroid Coverage (NCC)\",\n",
        "       \"Basic Centroid Coverage (BCC)\", \"Extended Centroid Coverage (ECC)\"],\n",
        "      [bczc_errors, czc_errors, ncczc_errors, bcczc_errors, acbczc_errors],\n",
        "    ):\n",
        "\n",
        "  # Perform the Kolmogorov-Smirnov test\n",
        "  D, p_value = stats.ks_2samp(samples_error, coverage_error)\n",
        "\n",
        "  print('D statistic:', D)\n",
        "  print('p-value:', p_value)\n",
        "\n",
        "  sn.kdeplot(coverage_error, fill=True, label=\"Coverage Error\")\n",
        "  sn.kdeplot(samples_error, fill=True, label=\"Sample Error\")\n",
        "  plt.title(coverage_criteian_name)\n",
        "  plt.legend()\n",
        "  plt.show()"
      ],
      "metadata": {
        "id": "bUveyQe1D280"
      },
      "execution_count": null,
      "outputs": []
    },
    {
      "cell_type": "markdown",
      "metadata": {
        "id": "119Ujk4aMmkD"
      },
      "source": [
        "# Binary Classifier (Error Prediction)"
      ]
    },
    {
      "cell_type": "code",
      "execution_count": null,
      "metadata": {
        "colab": {
          "base_uri": "https://localhost:8080/"
        },
        "id": "GFK55F5c8r8X",
        "outputId": "a4583c55-4e63-4238-b22d-a3f908f9cc4b"
      },
      "outputs": [
        {
          "output_type": "stream",
          "name": "stdout",
          "text": [
            "(7000, 359) (7000,) (3000, 359) (3000,)\n"
          ]
        }
      ],
      "source": [
        "X = features[:int(len(features)*0.7),:]\n",
        "y = report_df[\"predicted_wrong\"].values[:int(len(features)*0.7)]\n",
        "\n",
        "X_test = features[int(len(features)*0.7):,:]\n",
        "y_test = report_df[\"predicted_wrong\"].values[int(len(features)*0.7):]\n",
        "\n",
        "print(X.shape, y.shape, X_test.shape, y_test.shape)"
      ]
    },
    {
      "cell_type": "code",
      "execution_count": null,
      "metadata": {
        "id": "P-XbUwweVqV5"
      },
      "outputs": [],
      "source": [
        "from sklearn.metrics import roc_curve, auc\n",
        "import matplotlib.pyplot as plt\n",
        "\n",
        "def make_report(y,y_p):\n",
        "  accuracy = 1-(np.abs(y-y_p).sum()/len(y))\n",
        "  precision = np.sum(y[y_p==1]) / np.sum(y_p)\n",
        "  recall = np.sum(y_p[y==1]) / np.sum(y)\n",
        "\n",
        "  report_df = pd.DataFrame()\n",
        "  report_df['accuracy'] = [accuracy]\n",
        "  report_df['precision'] = [precision]\n",
        "  report_df['recall'] = [recall]\n",
        "\n",
        "  return report_df\n",
        "\n",
        "def plot_roc(y, y_p):\n",
        "  # Compute the ROC curve\n",
        "  fpr, tpr, thresholds = roc_curve(y, y_p)\n",
        "\n",
        "  # Compute the AUC\n",
        "  roc_auc = auc(fpr, tpr)\n",
        "\n",
        "  # Plot the ROC curve\n",
        "  plt.figure()\n",
        "  plt.plot(fpr, tpr, color='darkorange', lw=2, label='ROC curve (area = %0.3f)' % roc_auc)\n",
        "  plt.plot([0, 1], [0, 1], color='navy', lw=2, linestyle='--')\n",
        "  plt.xlim([0.0, 1.0])\n",
        "  plt.ylim([0.0, 1.05])\n",
        "  plt.xlabel('False Positive Rate')\n",
        "  plt.ylabel('True Positive Rate')\n",
        "  plt.title('Receiver Operating Characteristic')\n",
        "  plt.legend(loc=\"lower right\")\n",
        "  plt.show()"
      ]
    },
    {
      "cell_type": "markdown",
      "metadata": {
        "id": "SesWkDoIPmBo"
      },
      "source": [
        "## RF Binary Classifier"
      ]
    },
    {
      "cell_type": "code",
      "source": [
        "clf = RandomForestClassifier(max_depth=None)\n",
        "clf.fit(X, y)\n",
        "\n",
        "y_p = clf.predict_proba(X_test)[:,1]\n",
        "plot_roc(y_test, y_p)\n",
        "\n",
        "y_p = clf.predict(X_test)\n",
        "make_report(y_test,y_p)"
      ],
      "metadata": {
        "id": "VW-aEewbs6xs"
      },
      "execution_count": null,
      "outputs": []
    },
    {
      "cell_type": "markdown",
      "metadata": {
        "id": "L85bDNzeQgPN"
      },
      "source": [
        "## SVM"
      ]
    },
    {
      "cell_type": "code",
      "source": [
        "from sklearn import svm\n",
        "\n",
        "clf = svm.SVC(probability=True)\n",
        "clf.fit(X, y)\n",
        "\n",
        "y_p = clf.predict_proba(X_test)[:,1]\n",
        "plot_roc(y_test, y_p)\n",
        "\n",
        "y_p = clf.predict(X_test)\n",
        "make_report(y_test, y_p)"
      ],
      "metadata": {
        "id": "bkV2PsgKtGyF"
      },
      "execution_count": null,
      "outputs": []
    }
  ],
  "metadata": {
    "colab": {
      "toc_visible": true,
      "provenance": []
    },
    "kernelspec": {
      "display_name": "Python 3",
      "name": "python3"
    },
    "language_info": {
      "name": "python"
    }
  },
  "nbformat": 4,
  "nbformat_minor": 0
}